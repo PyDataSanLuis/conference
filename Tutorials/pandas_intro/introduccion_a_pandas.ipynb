{
 "cells": [
  {
   "cell_type": "markdown",
   "metadata": {
    "slideshow": {
     "slide_type": "slide"
    }
   },
   "source": [
    "# Introducción a Pandas\n",
    "\n",
    "\n",
    "\n",
    "\n",
    "\n",
    "\n",
    "\n",
    "\n",
    "\n",
    "**Ariel Rossanigo**\n"
   ]
  },
  {
   "cell_type": "markdown",
   "metadata": {
    "slideshow": {
     "slide_type": "slide"
    }
   },
   "source": [
    "### Quien soy?\n",
    "\n",
    "* Ariel Rossanigo\n",
    "* Profe de Inteligencia Artificial\n",
    "* Developer, Data Scientist\n"
   ]
  },
  {
   "cell_type": "markdown",
   "metadata": {
    "slideshow": {
     "slide_type": "slide"
    }
   },
   "source": [
    "### Objetivos de la charla\n",
    "\n",
    "* **10 Minutes to pandas** en 90 minutos\n",
    "\n",
    "\n",
    "https://pandas.pydata.org/pandas-docs/stable/10min.html\n"
   ]
  },
  {
   "cell_type": "markdown",
   "metadata": {
    "slideshow": {
     "slide_type": "slide"
    }
   },
   "source": [
    "### Agenda\n",
    "\n",
    "* Numpy, Pandas, Jupyter. Instalación y prueba del ambiente\n",
    "* Series y Dataframes\n",
    "* Lectura de datos\n",
    "* Indexado\n",
    "* Operaciones\n",
    "* Merge\n",
    "* Group\n",
    "* Plots\n",
    "* Tips and tricks"
   ]
  },
  {
   "cell_type": "markdown",
   "metadata": {
    "slideshow": {
     "slide_type": "slide"
    }
   },
   "source": [
    "#### Numpy\n",
    "\n",
    "* Arrays multidimensionales implementados de forma eficiente\n",
    "* Base para muchos de los paquetes científicos en Python\n",
    "\n",
    "#### Jupyter notebook\n",
    "\n",
    "* El notebook es un interprete interactivo en la web, pero que permite mezclar código, videos, imágenes, markdown, latex y gráficas...\n",
    "\n",
    "* Un notebook es una sucesión de celdas, donde cada una puede ser código, texto, etc\n",
    "\n",
    "#### Pandas (Python Data Analysis Library)\n",
    "\n",
    "* Herramienta por defecto para trabajar con datos en Python\n",
    "* Usa numpy por detrás pero propone abstracciones como ser Serie y DataFrame\n"
   ]
  },
  {
   "cell_type": "markdown",
   "metadata": {
    "slideshow": {
     "slide_type": "slide"
    }
   },
   "source": [
    "### Preparando el ambiente...\n",
    "\n",
    "#### 1. Clonar el repositorio de la charla e ir a la carpeta de esta charla\n",
    "\n",
    "    git clone https://github.com/arielrossanigo/talks.git\n",
    "    cd pandas_intro\n",
    "\n",
    "#### 2. Instalar requerimientos\n",
    "\n",
    "    pip install -r requirements.txt\n",
    "\n",
    "#### 3. Abrir este notebook\n",
    "\n",
    "    jupyter notebook introduccion_a_pandas.ipynb\n",
    "  "
   ]
  },
  {
   "cell_type": "markdown",
   "metadata": {
    "slideshow": {
     "slide_type": "slide"
    }
   },
   "source": [
    "#### 4. Ejecutar la siguiente celda"
   ]
  },
  {
   "cell_type": "code",
   "execution_count": null,
   "metadata": {
    "slideshow": {
     "slide_type": "-"
    }
   },
   "outputs": [],
   "source": [
    "%matplotlib inline\n",
    "import pandas as pd\n",
    "import numpy as np\n",
    "import matplotlib.pyplot as plt\n",
    "\n",
    "print(\"Funciona!\")"
   ]
  },
  {
   "cell_type": "markdown",
   "metadata": {
    "slideshow": {
     "slide_type": "slide"
    }
   },
   "source": [
    "### Estructuras básicas\n",
    "\n",
    "* Serie: one dimensional labeled array"
   ]
  },
  {
   "cell_type": "code",
   "execution_count": null,
   "metadata": {},
   "outputs": [],
   "source": [
    "nombres = pd.Series(['john', 'paul', 'george', 'ringo'])\n",
    "nombres"
   ]
  },
  {
   "cell_type": "markdown",
   "metadata": {
    "slideshow": {
     "slide_type": "fragment"
    }
   },
   "source": [
    "* Dataframe: two dimensional labeled data structure with columns of potentially different types"
   ]
  },
  {
   "cell_type": "code",
   "execution_count": null,
   "metadata": {
    "slideshow": {
     "slide_type": "-"
    }
   },
   "outputs": [],
   "source": [
    "beatles = pd.DataFrame({    \n",
    "    'nombre': nombres,\n",
    "    'nacimiento': [1940, 1942, 1943, 1940]\n",
    "})\n",
    "beatles"
   ]
  },
  {
   "cell_type": "markdown",
   "metadata": {
    "slideshow": {
     "slide_type": "slide"
    }
   },
   "source": [
    "### *Hands on*\n",
    "\n",
    "* Crear un Dataframe como el anterior pero con 2 columnas extras\n",
    "\n",
    " * instrumento: en orden serían ('guitarra', 'bajo', 'guitarra', 'bateria')\n",
    " * permanencia: (9, 10, 10, 8)"
   ]
  },
  {
   "cell_type": "code",
   "execution_count": null,
   "metadata": {},
   "outputs": [],
   "source": [
    "## Modificar este código\n",
    "beatles = pd.DataFrame({    \n",
    "    'nombre': nombres,\n",
    "    'nacimiento': [1940, 1942, 1943, 1940]\n",
    "})\n",
    "beatles"
   ]
  },
  {
   "cell_type": "markdown",
   "metadata": {
    "slideshow": {
     "slide_type": "slide"
    }
   },
   "source": [
    "### Leyendo datos\n",
    "\n",
    "**Pandas** viene preparado para interactuar con varios formatos de datos, entre ellos CSV, Excel, HDF5, pickle, SQL y varios más. Algunos de los parámetros más usados de read_csv:\n",
    "\n",
    "* filepath_or_buffer: requerido\n",
    "* parse_dates: columnas a ser parseadas como dates\n",
    "* date_parser: función utilizada para parsear dates\n",
    "* usecols: columnas a recuperar\n",
    "* dtype: tipos de datos de las columnas\n",
    "* na_values: valores que son considerados NA\n",
    "\n",
    "La lista continúa y es bastante larga...\n",
    "\n",
    "https://pandas.pydata.org/pandas-docs/stable/generated/pandas.read_csv.html#pandas.read_csv"
   ]
  },
  {
   "cell_type": "markdown",
   "metadata": {
    "slideshow": {
     "slide_type": "slide"
    }
   },
   "source": [
    "### El ejemplo...\n",
    "\n",
    "Vamos a trabajar con datos expuestos por Organismos del Gobierno de la República Argentina, más precisamente por el Ministerio de Ciencia y Tecnología.\n",
    "\n",
    "Vamos a usar 2 datasets:\n",
    "\n",
    "* Proyectos de ciencia, tecnología e innovación (http://datos.gob.ar/dataset/proyectos-ciencia-tecnologia-e-innovacion)\n",
    "* Empresas de ejecución de proyectos de ciencia, tecnología e innovación (http://datos.gob.ar/dataset/empresas-ejecucion-proyectos-ciencia-tecnologia-e-innovacion)"
   ]
  },
  {
   "cell_type": "code",
   "execution_count": null,
   "metadata": {
    "slideshow": {
     "slide_type": "fragment"
    }
   },
   "outputs": [],
   "source": [
    "proyectos = pd.read_csv('proyectos.csv')\n",
    "proyectos.head(3)"
   ]
  },
  {
   "cell_type": "code",
   "execution_count": null,
   "metadata": {
    "slideshow": {
     "slide_type": "slide"
    }
   },
   "outputs": [],
   "source": [
    "# Un poco de detalle\n",
    "proyectos.info(memory_usage='deep')"
   ]
  },
  {
   "cell_type": "markdown",
   "metadata": {
    "slideshow": {
     "slide_type": "slide"
    }
   },
   "source": [
    "### *Hands on*\n",
    "\n",
    "* Leer nuevamente el csv, pero:\n",
    "\n",
    " * recuperar solamente las columnas: 'proyecto_id', 'fecha_inicio', 'provincia_de_ejecución', 'monto_financiado', 'monto_total', 'gran_area_conocimiento', 'tipo_organizacion_ejec'\n",
    " * la columna ``fecha_inicio`` debe ser parseada como date"
   ]
  },
  {
   "cell_type": "code",
   "execution_count": null,
   "metadata": {},
   "outputs": [],
   "source": [
    "## Modificar este código\n",
    "proyectos = pd.read_csv('proyectos.csv')\n",
    "proyectos.set_index('proyecto_id', inplace=True)\n",
    "proyectos.head(3)"
   ]
  },
  {
   "cell_type": "markdown",
   "metadata": {
    "slideshow": {
     "slide_type": "slide"
    }
   },
   "source": [
    "### Filtrado de datos\n",
    "\n",
    "* By label: **loc**\n",
    "* By position: **iloc**\n",
    "* Boolean indexing: *a la numpy*"
   ]
  },
  {
   "cell_type": "code",
   "execution_count": null,
   "metadata": {},
   "outputs": [],
   "source": [
    "proyectos.loc[1:3, 'fecha_inicio':'monto_total']"
   ]
  },
  {
   "cell_type": "code",
   "execution_count": null,
   "metadata": {},
   "outputs": [],
   "source": [
    "proyectos.iloc[1:3, 0:3]"
   ]
  },
  {
   "cell_type": "code",
   "execution_count": null,
   "metadata": {},
   "outputs": [],
   "source": [
    "proyectos[(proyectos['provincia_de_ejecución'] == 'San Luis') & (proyectos.fecha_inicio.dt.year == 2016)]"
   ]
  },
  {
   "cell_type": "markdown",
   "metadata": {
    "slideshow": {
     "slide_type": "slide"
    }
   },
   "source": [
    "### *Hands on*\n",
    "\n",
    "* Mostrar los proyectos de CABA, donde se haya financiado más de 1MM de pesos."
   ]
  },
  {
   "cell_type": "code",
   "execution_count": null,
   "metadata": {},
   "outputs": [],
   "source": [
    "## Modificar este código\n",
    "filtro = (proyectos['provincia_de_ejecución'] == 'CABA') & (proyectos.monto_financiado > 1e6)\n",
    "proyectos[filtro].head(5)"
   ]
  },
  {
   "cell_type": "markdown",
   "metadata": {
    "slideshow": {
     "slide_type": "slide"
    }
   },
   "source": [
    "### Agregado de columnas, operaciones básicas"
   ]
  },
  {
   "cell_type": "code",
   "execution_count": null,
   "metadata": {},
   "outputs": [],
   "source": [
    "# la forma mas simple, con operaciones entre series\n",
    "proyectos['porcentaje_financiado'] = proyectos.monto_financiado / proyectos.monto_total"
   ]
  },
  {
   "cell_type": "code",
   "execution_count": null,
   "metadata": {},
   "outputs": [],
   "source": [
    "# valor condicional\n",
    "proyectos['financia_mas_80_por_ciento'] = np.where(proyectos.porcentaje_financiado > 0.8, 'Si', 'No')"
   ]
  },
  {
   "cell_type": "markdown",
   "metadata": {
    "slideshow": {
     "slide_type": "slide"
    }
   },
   "source": [
    "### Stats"
   ]
  },
  {
   "cell_type": "code",
   "execution_count": null,
   "metadata": {},
   "outputs": [],
   "source": [
    "print(\"Monto de proyecto. Promedio: {:,.2f} $. Desvio: {:,.2f} $\".format(\n",
    "    proyectos.monto_total.mean(),\n",
    "    proyectos.monto_total.std()\n",
    "))"
   ]
  },
  {
   "cell_type": "code",
   "execution_count": null,
   "metadata": {},
   "outputs": [],
   "source": [
    "proyectos.describe(include='all')"
   ]
  },
  {
   "cell_type": "code",
   "execution_count": null,
   "metadata": {
    "slideshow": {
     "slide_type": "slide"
    }
   },
   "outputs": [],
   "source": [
    "# cuantos proyectos por provincia?\n",
    "proyectos['provincia_de_ejecución'].value_counts().head(5)"
   ]
  },
  {
   "cell_type": "code",
   "execution_count": null,
   "metadata": {
    "slideshow": {
     "slide_type": "slide"
    }
   },
   "outputs": [],
   "source": [
    "# bins de montos de proyecto (rangos fijos)\n",
    "bins = [0, 1e6, 2e7, 1e20]\n",
    "names = ['Barato', 'Normal', 'Caro']\n",
    "\n",
    "proyectos['costo'] = pd.cut(proyectos.monto_total, bins, labels=names)\n",
    "proyectos.costo.value_counts()"
   ]
  },
  {
   "cell_type": "code",
   "execution_count": null,
   "metadata": {
    "slideshow": {
     "slide_type": "fragment"
    }
   },
   "outputs": [],
   "source": [
    "bins = [0, .33, .66, 1]\n",
    "proyectos['costo'] = pd.qcut(proyectos.monto_total, bins, labels=names)\n",
    "proyectos.costo.value_counts()"
   ]
  },
  {
   "cell_type": "markdown",
   "metadata": {
    "slideshow": {
     "slide_type": "slide"
    }
   },
   "source": [
    "### Aplicando funciones"
   ]
  },
  {
   "cell_type": "code",
   "execution_count": null,
   "metadata": {},
   "outputs": [],
   "source": [
    "proyectos.monto_total.apply(lambda x: '{:,.2f} $'.format(x)).head(3)"
   ]
  },
  {
   "cell_type": "code",
   "execution_count": null,
   "metadata": {},
   "outputs": [],
   "source": [
    "proyectos.apply(lambda x: x.monto_total - x.monto_financiado, axis='columns').head(3)"
   ]
  },
  {
   "cell_type": "markdown",
   "metadata": {
    "slideshow": {
     "slide_type": "slide"
    }
   },
   "source": [
    "### Funciones con strings\n",
    "\n",
    "Hay un atributo *str* para tal fin"
   ]
  },
  {
   "cell_type": "code",
   "execution_count": null,
   "metadata": {
    "scrolled": true
   },
   "outputs": [],
   "source": [
    "# pasar a minúsculas\n",
    "proyectos.tipo_organizacion_ejec.str.lower().head(3)\n",
    "\n",
    "# contiene universidad o ciencia\n",
    "ix = proyectos.tipo_organizacion_ejec.str.contains('universidad|ciencia', case=False)\n",
    "proyectos[ix].tipo_organizacion_ejec.unique()"
   ]
  },
  {
   "cell_type": "markdown",
   "metadata": {
    "slideshow": {
     "slide_type": "slide"
    }
   },
   "source": [
    "### Algunos métodos útiles\n",
    "\n",
    "* drop_duplicates: si hay varias filas repetidas deja solo una (no tiene en cuenta el índice)\n",
    "* fillna: completa con el valor que recibe como parámetro las celdas sin valor\n"
   ]
  },
  {
   "cell_type": "code",
   "execution_count": null,
   "metadata": {
    "slideshow": {
     "slide_type": "-"
    }
   },
   "outputs": [],
   "source": [
    "proyectos.gran_area_conocimiento.fillna('???').unique()"
   ]
  },
  {
   "cell_type": "code",
   "execution_count": null,
   "metadata": {
    "slideshow": {
     "slide_type": "-"
    }
   },
   "outputs": [],
   "source": [
    "proyectos.gran_area_conocimiento.drop_duplicates()"
   ]
  },
  {
   "cell_type": "markdown",
   "metadata": {
    "slideshow": {
     "slide_type": "slide"
    }
   },
   "source": [
    "### *Hands on*\n",
    "\n",
    "* ¿Cuál es el área de conocimiento con más proyectos?\n",
    "* ¿Qué porcentaje del costo se financia en promedio?"
   ]
  },
  {
   "cell_type": "code",
   "execution_count": null,
   "metadata": {},
   "outputs": [],
   "source": [
    "# lugar para responder las preguntas\n"
   ]
  },
  {
   "cell_type": "markdown",
   "metadata": {
    "slideshow": {
     "slide_type": "slide"
    }
   },
   "source": [
    "### Agrupando datos\n",
    "\n",
    "Involucra 1 o más de los siguientes pasos:\n",
    "\n",
    "* **Separar** los datos en grupos en base a algún criterio\n",
    "* **Aplicar** una función a cada grupo de forma independiente\n",
    "\n",
    " * Aggregation\n",
    " * Transformation\n",
    " * Filtration\n",
    "\n",
    "* **Combinar** los resultados en una estructura de datos\n",
    "\n",
    "https://pandas.pydata.org/pandas-docs/stable/groupby.html#groupby"
   ]
  },
  {
   "cell_type": "code",
   "execution_count": null,
   "metadata": {
    "slideshow": {
     "slide_type": "slide"
    }
   },
   "outputs": [],
   "source": [
    "# cantidad de proyectos y promedio de monto financiado por provincia\n",
    "proyectos.groupby(proyectos['provincia_de_ejecución']).monto_financiado.agg(['mean', 'count']).head(3)"
   ]
  },
  {
   "cell_type": "code",
   "execution_count": null,
   "metadata": {
    "scrolled": false,
    "slideshow": {
     "slide_type": "slide"
    }
   },
   "outputs": [],
   "source": [
    "# los 3 proyectos con mayor financiacion por provincia\n",
    "ordenado = proyectos.sort_values(by=['provincia_de_ejecución', 'monto_financiado'], ascending=False)\n",
    "ordenado.groupby('provincia_de_ejecución').head(3).head(6)"
   ]
  },
  {
   "cell_type": "markdown",
   "metadata": {
    "slideshow": {
     "slide_type": "slide"
    }
   },
   "source": [
    "### *Hands on*\n",
    "\n",
    "En el dataset se puede apreciar que hay más de un registro por proyecto. Esto se debe a que el mismo proyecto puede estar en más de una provincia a la vez o abarcar más de un área de conocimiento.\n",
    "\n",
    "* ¿Cuánto es el monto total financiado en cada año sabiendo lo antes mencionado? "
   ]
  },
  {
   "cell_type": "code",
   "execution_count": null,
   "metadata": {},
   "outputs": [],
   "source": [
    "## Completar código aquí"
   ]
  },
  {
   "cell_type": "markdown",
   "metadata": {
    "slideshow": {
     "slide_type": "slide"
    }
   },
   "source": [
    "### Combinando datos\n",
    "\n",
    "#### Concat\n",
    "\n",
    "    pd.concat(objs, axis=0, join='outer', join_axes=None, ignore_index=False,\n",
    "              keys=None, levels=None, names=None, verify_integrity=False,\n",
    "              copy=True)\n"
   ]
  },
  {
   "cell_type": "code",
   "execution_count": null,
   "metadata": {
    "scrolled": true
   },
   "outputs": [],
   "source": [
    "pd.concat([beatles, beatles], axis=0)"
   ]
  },
  {
   "cell_type": "markdown",
   "metadata": {
    "slideshow": {
     "slide_type": "slide"
    }
   },
   "source": [
    "### Combinando datos\n",
    "\n",
    "#### Merge\n",
    "\n",
    "    pd.merge(left, right, how='inner', on=None, left_on=None, right_on=None,\n",
    "         left_index=False, right_index=False, sort=True,\n",
    "         suffixes=('_x', '_y'), copy=True, indicator=False,\n",
    "         validate=None)\n"
   ]
  },
  {
   "cell_type": "code",
   "execution_count": null,
   "metadata": {},
   "outputs": [],
   "source": [
    "muertes = pd.DataFrame({\n",
    "    'nombre': ['john', 'george'],\n",
    "    'año de muerte': [1980, 2001] \n",
    "})\n",
    "\n",
    "pd.merge(beatles, muertes, on='nombre')"
   ]
  },
  {
   "cell_type": "code",
   "execution_count": null,
   "metadata": {
    "slideshow": {
     "slide_type": "slide"
    }
   },
   "outputs": [],
   "source": [
    "m2 = muertes.set_index('nombre')\n",
    "\n",
    "pd.merge(beatles, m2, left_on='nombre', right_index=True, how='left', indicator=True, validate='one_to_one')"
   ]
  },
  {
   "cell_type": "code",
   "execution_count": null,
   "metadata": {
    "slideshow": {
     "slide_type": "slide"
    }
   },
   "outputs": [],
   "source": [
    "instrumentos = pd.DataFrame({\n",
    "    'nombre': ['john', 'john', 'ringo',  'ringo', 'charly'],\n",
    "    'instrumento': ['guitarra', 'teclado', 'bateria', 'percusión', 'piano'] \n",
    "})\n",
    "\n",
    "pd.merge(beatles, instrumentos, left_on='nombre', right_on='nombre', how='outer', indicator=True, \n",
    "         validate='one_to_many')"
   ]
  },
  {
   "cell_type": "markdown",
   "metadata": {
    "slideshow": {
     "slide_type": "slide"
    }
   },
   "source": [
    "### *Hands on*\n",
    "\n",
    "* Usar el dataset de empresas provisto debajo para determinar el top 5 de empresas en cuanto a su involucración en los  proyectos de mayor monto"
   ]
  },
  {
   "cell_type": "code",
   "execution_count": null,
   "metadata": {},
   "outputs": [],
   "source": [
    "empresas = pd.read_csv('empresas.csv')\n",
    "empresas.head(3)"
   ]
  },
  {
   "cell_type": "code",
   "execution_count": null,
   "metadata": {},
   "outputs": [],
   "source": [
    "## Completar código aquí"
   ]
  },
  {
   "cell_type": "markdown",
   "metadata": {
    "slideshow": {
     "slide_type": "slide"
    }
   },
   "source": [
    "### Ploteando datos"
   ]
  },
  {
   "cell_type": "code",
   "execution_count": null,
   "metadata": {},
   "outputs": [],
   "source": [
    "ts = pd.Series(np.random.randn(1000), index=pd.date_range('1/1/2015', periods=1000))\n",
    "df = pd.DataFrame(np.random.randn(1000, 4), index=ts.index, columns=['A', 'B', 'C', 'D'])\n",
    "df = df.cumsum()\n",
    "df.plot(figsize=(12, 4));"
   ]
  },
  {
   "cell_type": "code",
   "execution_count": null,
   "metadata": {
    "slideshow": {
     "slide_type": "slide"
    }
   },
   "outputs": [],
   "source": [
    "f, axis = plt.subplots(1, 2, figsize=(12, 4))\n",
    "df.boxplot(ax=axis[0])\n",
    "df.A.hist(ax=axis[1]);"
   ]
  },
  {
   "cell_type": "markdown",
   "metadata": {
    "slideshow": {
     "slide_type": "slide"
    }
   },
   "source": [
    "### *Hands on*\n",
    "\n",
    "* ¿Cuánto es el monto total financiado año a año? \n",
    "* ¿Cuánto es el monto total financiado provincia por provincia? "
   ]
  },
  {
   "cell_type": "code",
   "execution_count": null,
   "metadata": {},
   "outputs": [],
   "source": [
    "f, axis = plt.subplots(1, 2, figsize=(12, 4))\n",
    "## Completar código aquí\n"
   ]
  },
  {
   "cell_type": "markdown",
   "metadata": {
    "slideshow": {
     "slide_type": "slide"
    }
   },
   "source": [
    "### Algunos consejos \n",
    "\n",
    "* Evitar lo más posible utilizar ``apply`` => Tratar de usar operaciones sobre vectores\n",
    "* Evitar ``iterrows`` => Acceder \n",
    "* ``concat`` duplica el consumo de memoria al momento de la concatenación => Depende del caso, HDF5 quizás ayuda"
   ]
  },
  {
   "cell_type": "markdown",
   "metadata": {
    "slideshow": {
     "slide_type": "slide"
    }
   },
   "source": [
    "### Preguntas?\n",
    "\n",
    "<img src=\"../common/imgs/man-qmark.jpg\" width=\"400\" align=\"middle\">\n"
   ]
  },
  {
   "cell_type": "markdown",
   "metadata": {
    "slideshow": {
     "slide_type": "slide"
    }
   },
   "source": [
    "### Gracias!\n",
    "\n",
    "Mis datos de contacto:\n",
    "\n",
    "<p><img src=\"../common/imgs/gmail-1162901_960_720.png\" width=\"40\" style=\"float: left;\" align=\"middle\"> arielrossanigo@gmail.com</p>\n",
    "\n",
    "<p><img src=\"../common/imgs/twitter-312464_960_720.png\" width=\"40\" style=\"float: left;\" align=\"middle\"> @arielrossanigo</p>\n",
    "\n",
    "<p><img src=\"../common/imgs/github-154769__340.png\" width=\"40\" style=\"float: left;\" align=\"middle\"> https://github.com/arielrossanigo</p>\n"
   ]
  }
 ],
 "metadata": {
  "celltoolbar": "Slideshow",
  "kernelspec": {
   "display_name": "Python 3",
   "language": "python",
   "name": "python3"
  },
  "language_info": {
   "codemirror_mode": {
    "name": "ipython",
    "version": 3
   },
   "file_extension": ".py",
   "mimetype": "text/x-python",
   "name": "python",
   "nbconvert_exporter": "python",
   "pygments_lexer": "ipython3",
   "version": "3.5.2"
  }
 },
 "nbformat": 4,
 "nbformat_minor": 2
}
